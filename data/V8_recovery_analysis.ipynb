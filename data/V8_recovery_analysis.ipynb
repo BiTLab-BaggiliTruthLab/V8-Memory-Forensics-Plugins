{
 "cells": [
  {
   "cell_type": "markdown",
   "id": "8cb3f70c",
   "metadata": {},
   "source": [
    "# V8 Memory Forensics Plugin Data Analysis\n",
    "#### Notebook Created By: Samuel Zurowski @ University of New Haven\n",
    "#### GitHub Repository: https://github.com/unhcfreg/V8-Memory-Forensics-Plugins\n",
    "\n",
    "All Memory images used for data analysis were V8_[0-10]_objects.vmem. This data was generated into a csv which is loaded in this notebook."
   ]
  },
  {
   "cell_type": "code",
   "execution_count": null,
   "id": "1c3b3db2",
   "metadata": {},
   "outputs": [],
   "source": [
    "# Libraries required for this Notebook\n",
    "import numpy as np\n",
    "import pandas as pd\n",
    "\n",
    "from matplotlib import pyplot as plt\n",
    "%matplotlib inline\n",
    "\n",
    "import seaborn as sns"
   ]
  },
  {
   "cell_type": "markdown",
   "id": "3a6406d3",
   "metadata": {},
   "source": [
    "## Load CSV V8 Plugin Data"
   ]
  },
  {
   "cell_type": "code",
   "execution_count": null,
   "id": "e5a9e29b",
   "metadata": {},
   "outputs": [],
   "source": [
    "# Load data dataset loaded in custom folder of repo.\n",
    "data_set = pd.read_csv(\"custom/custom_v8_objects.csv\")"
   ]
  },
  {
   "cell_type": "code",
   "execution_count": null,
   "id": "7db1ec83",
   "metadata": {},
   "outputs": [],
   "source": [
    "# Test Querying the Data\n",
    "data_set[(data_set.num_type == 2)].sort_values(\"num_user_created_objs\")"
   ]
  },
  {
   "cell_type": "markdown",
   "id": "fe258577",
   "metadata": {},
   "source": [
    "### Looking at correlation for each Instance Type"
   ]
  },
  {
   "cell_type": "code",
   "execution_count": null,
   "id": "38643016",
   "metadata": {
    "scrolled": true
   },
   "outputs": [],
   "source": [
    "\n",
    "for num_type in data_set['num_type'].unique():\n",
    "    check_corr = data_set[(data_set.num_type == num_type)].sort_values(\"num_user_created_objs\")\n",
    "\n",
    "    # remove GC'ed data so we can have better correlation\n",
    "    check_corr = check_corr[(check_corr.num_user_created_objs != 1) & (check_corr.num_user_created_objs != 7)]\n",
    "    \n",
    "    check_X = check_corr['num_user_created_objs']\n",
    "    check_Y = check_corr['total_count_of_type']\n",
    "    \n",
    "    corr_of_type = check_X.corr(check_Y)\n",
    "    if pd.isna(corr_of_type): # don't care if it doesn't have correlation\n",
    "        continue\n",
    "    \n",
    "    print(f\"Instance Type: {num_type} correlation: {corr_of_type}\")\n",
    "    "
   ]
  },
  {
   "cell_type": "code",
   "execution_count": null,
   "id": "a736d1ad",
   "metadata": {},
   "outputs": [],
   "source": [
    "data_set.describe()"
   ]
  },
  {
   "cell_type": "markdown",
   "id": "3e39c4eb",
   "metadata": {},
   "source": [
    "# Data Visualization"
   ]
  },
  {
   "cell_type": "code",
   "execution_count": null,
   "id": "063eb40e",
   "metadata": {},
   "outputs": [],
   "source": [
    "# This will just show string types.\n",
    "# Feel free to analyze any of the data\n",
    "str_types = np.array([0, 2, 8, 10, 18, 26, 32, 33, 34, 35, 37, 40, 41, 42, 43, 45, 50, 58, 64])\n",
    "\n",
    "# modify total count of type to see lower values and how they are.\n",
    "modified_data = data_set[data_set.num_type < 65]\n",
    "# modified_data = data_set\n",
    "\n",
    "plt.figure(figsize=(15, 15))\n",
    "sns.set(style=\"whitegrid\", font_scale=2)\n",
    "lpot = sns.lineplot(x=\"num_type\", y=\"total_count_of_type\", hue=\"num_user_created_objs\", style=\"num_user_created_objs\", \n",
    "             markers=True, dashes=False,   data=modified_data, legend=\"full\", palette='Paired')\n",
    "\n",
    "lpot.legend(title='Count of User Generated Objects', loc='upper right')\n",
    "lpot.set_title(\"Increase of User Generated String Discovered Objects\")\n",
    "\n",
    "plt.xlabel(\"Object Type Number\")\n",
    "plt.ylabel(\"Total Count of Object Type\")\n",
    "# plt.xticks(str_types)\n",
    "plt.xticks(rotation=90)\n",
    "\n",
    "plt.show()"
   ]
  },
  {
   "cell_type": "code",
   "execution_count": null,
   "id": "e19e5dc0",
   "metadata": {},
   "outputs": [],
   "source": [
    "const_one_byte = data_set[(data_set.num_type == 0x421)].sort_values('num_user_created_objs')\n",
    "\n",
    "const_one_byte"
   ]
  },
  {
   "cell_type": "code",
   "execution_count": null,
   "id": "ad1eab93",
   "metadata": {},
   "outputs": [],
   "source": [
    "user_created = data_set[(data_set.num_type == 0x421)].sort_values('num_user_created_objs')\n",
    "user_created"
   ]
  },
  {
   "cell_type": "code",
   "execution_count": null,
   "id": "53a5fcff",
   "metadata": {},
   "outputs": [],
   "source": [
    "# This is one of the figures from the paper\n",
    "plt.figure(figsize=(15, 15))\n",
    "lpot = sns.barplot(x=\"num_user_created_objs\", \n",
    "            y=\"total_count_of_type\",\n",
    "            data=user_created,color='grey')\n",
    "lpot.set_ylim(2500, 5000)\n",
    "plt.xlabel(\"Number of User Objects Created\")\n",
    "lpot.set_title(\"Count of 0x421 Instance Type Objects\")\n",
    "\n",
    "plt.ylabel(\"Total Count of Object Type\")\n",
    "plt.xticks(rotation=90)\n",
    "plt.show()"
   ]
  },
  {
   "cell_type": "code",
   "execution_count": null,
   "id": "bfe22758",
   "metadata": {},
   "outputs": [],
   "source": [
    "# showing specific type of constant one byte str \n",
    "# example of constant one byte str type\n",
    "\n",
    "plt.figure(figsize=(15, 15))\n",
    "lpot = sns.barplot(x=\"num_user_created_objs\", \n",
    "            y=\"total_count_of_type\",\n",
    "            data=const_one_byte)\n",
    "lpot.set_ylim(300, 10000)\n",
    "plt.xlabel(\"Number of User Objects Created\")\n",
    "plt.ylabel(\"Total Count of Object Type\")\n",
    "plt.xticks(rotation=90)\n",
    "plt.show()"
   ]
  },
  {
   "cell_type": "code",
   "execution_count": null,
   "id": "9f501965",
   "metadata": {},
   "outputs": [],
   "source": [
    "# ONE_BYTE_INTERNALIZED_STRING_TYPE         \n",
    "one_byte_internalized = data_set[(data_set.num_type == 8)].sort_values('num_user_created_objs')\n",
    "one_byte_internalized"
   ]
  },
  {
   "cell_type": "code",
   "execution_count": null,
   "id": "a1ded4d6",
   "metadata": {},
   "outputs": [],
   "source": [
    "# ONE_BYTE_INTERNALIZED_STRING_TYPE                \n",
    "\n",
    "custom_data = one_byte_internalized[(one_byte_internalized.num_user_created_objs != 1) & (one_byte_internalized.num_user_created_objs != 7)]\n",
    "\n",
    "plt.figure(figsize=(15, 15))\n",
    "lpot = sns.barplot(x=\"num_user_created_objs\", \n",
    "            y=\"total_count_of_type\",\n",
    "            data=custom_data, color='grey')\n",
    "lpot.set_ylim(6040, 6070)\n",
    "plt.xlabel(\"Number of User Objects Created\")\n",
    "plt.ylabel(\"Total Count of Object Type\")\n",
    "\n",
    "lpot.set_title(\"One Byte Interalized String Type Recovered Objects Count\")\n",
    "# lpot.set_title(\"Count of 0x421 Instance Type Objects\")\n",
    "plt.xticks(rotation=90)\n",
    "\n",
    "# ax = ax.set_ylim(5000, 7000)\n",
    "plt.show()"
   ]
  },
  {
   "cell_type": "code",
   "execution_count": null,
   "id": "d72a4824",
   "metadata": {},
   "outputs": [],
   "source": [
    "# fool around with the data here to see what it looks like\n",
    "# can't really do great analysis by looking at all the values at same time\n",
    "str_data = data_set[data_set.num_type < 64]\n",
    "str_data = str_data[str_data.total_count_of_type < 100]\n",
    "\n",
    "plt.figure(figsize=(30, 8))\n",
    "lpot = sns.barplot(x=\"num_type\", \n",
    "            y=\"total_count_of_type\", \n",
    "            hue=\"num_user_created_objs\", \n",
    "            data=str_data)\n",
    "plt.xlabel(\"Object Type Number\")\n",
    "plt.ylabel(\"Total Count of Object Type\")\n",
    "plt.xticks(rotation=90)\n",
    "plt.show()"
   ]
  }
 ],
 "metadata": {
  "kernelspec": {
   "display_name": "Python 3",
   "language": "python",
   "name": "python3"
  },
  "language_info": {
   "codemirror_mode": {
    "name": "ipython",
    "version": 3
   },
   "file_extension": ".py",
   "mimetype": "text/x-python",
   "name": "python",
   "nbconvert_exporter": "python",
   "pygments_lexer": "ipython3",
   "version": "3.8.8"
  }
 },
 "nbformat": 4,
 "nbformat_minor": 5
}
